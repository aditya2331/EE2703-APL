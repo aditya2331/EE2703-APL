{
 "cells": [
  {
   "cell_type": "markdown",
   "id": "aea394cd-9c00-4276-89c3-61b645ec988e",
   "metadata": {
    "tags": []
   },
   "source": [
    "# Combinational Circuit Evaluation"
   ]
  },
  {
   "cell_type": "code",
   "execution_count": 1,
   "id": "322e99a0-3f85-4bab-9257-284bee22f162",
   "metadata": {},
   "outputs": [],
   "source": [
    "import networkx as nx\n",
    "import os\n",
    "from timeit import default_timer as timer"
   ]
  },
  {
   "cell_type": "markdown",
   "id": "5c9c849b-705e-4703-b6a0-5963dfe042c7",
   "metadata": {},
   "source": [
    "Importing required libraries, the __networkx__ module has been imported to enable easy implementation and manipulation of graphs. OS is simply used for checking file path validity, and timeit is used for precise measurement of time taken within code blocks. Later on, we will also import some more modules."
   ]
  },
  {
   "cell_type": "markdown",
   "id": "64a5be89-fd40-4b22-88e1-9c8069f312b4",
   "metadata": {},
   "source": [
    "## Reading in Netlist"
   ]
  },
  {
   "cell_type": "code",
   "execution_count": 2,
   "id": "6fadea9a-1b97-4af1-b0fb-b3f4035f3f6d",
   "metadata": {},
   "outputs": [],
   "source": [
    "def netread(f_net):\n",
    "    \n",
    "    accepted_gates = [\"AND2\", \"OR2\", \"NOT\", \"NOR2\", \"NAND2\", \"XOR2\", \"XNOR2\", \"INV\", \"BUF\"]\n",
    "    gates = {}\n",
    "    edges_from = []\n",
    "    nodes = {}\n",
    "    \n",
    "    \n",
    "    for line in f_net:\n",
    "        split = line.split()\n",
    "        if split[1].upper() not in accepted_gates:\n",
    "            continue\n",
    "        # elif not split[0].isalnum():\n",
    "        #    continue\n",
    "        #elif not split[1].isalnum():\n",
    "        #    continue  \n",
    "        #elif not split[2].isalnum():\n",
    "        #    continue\n",
    "        #elif not split[-1].isalnum():\n",
    "        #    continue  \n",
    "        else:\n",
    "            gates[split[0]] = split[1:]\n",
    "\n",
    "    for gate in gates:\n",
    "        if gates[gate][0].upper() == 'NOT' or gates[gate][0].upper() == 'INV' or gates[gate][0].upper() == 'BUF':\n",
    "            nodes[gates[gate][2]] = gates[gate][0].upper()\n",
    "            edges_from.append((gates[gate][1],gates[gate][2]))\n",
    "        else:\n",
    "            edges_from.append((gates[gate][1],gates[gate][3]))\n",
    "            edges_from.append((gates[gate][2],gates[gate][3]))\n",
    "            nodes[gates[gate][3]] = gates[gate][0].upper()\n",
    "    \n",
    "    g = nx.DiGraph()\n",
    "    \n",
    "    # add nodes and edges to the DAG\n",
    "    g.add_edges_from(edges_from)\n",
    "    nx.set_node_attributes(g, nodes,name=\"gateType\")\n",
    "    \n",
    "    try:\n",
    "        n_ordered = list(nx.topological_sort(g))\n",
    "    except nx.NetworkXUnfeasible:\n",
    "        return -1\n",
    "    \n",
    "    return [g, n_ordered, nodes]"
   ]
  },
  {
   "cell_type": "markdown",
   "id": "9a437d9e-0a2f-48b0-8c44-73d9b89a6b20",
   "metadata": {
    "jp-MarkdownHeadingCollapsed": true,
    "tags": []
   },
   "source": [
    "A base data extractor function that analyzes the netlist.\n",
    "* This function takes the open file variable as an input, reads the content and returns a dictionary of nodes, a list of topologically sorted nodes, and the directed acyclic graph created using the input parameters.\n",
    "\n",
    "* These will act as inputs to our solver functions.\n",
    "\n",
    "* We have implemented topological sort to find the hierarchical order of nodes.\n",
    "\n",
    "* The nodes dictionary will have the name of the node as a key and the type of the gate of which it is an output as the corresponding value.\n",
    "\n",
    "* We have kept in mind that only certain types of gates are to be accepted and we have checked for single/dual input gates as well.\n",
    "\n",
    "* We have implemented error handling for exceptions such as a cyclic graph."
   ]
  },
  {
   "cell_type": "markdown",
   "id": "14238cde-e784-4f6a-8e5f-533498c6e52a",
   "metadata": {
    "tags": []
   },
   "source": [
    "## Topological sort + Ordered evaluation"
   ]
  },
  {
   "cell_type": "code",
   "execution_count": 3,
   "id": "bc2bc308-d04c-41f7-8346-b7df5cc796ba",
   "metadata": {},
   "outputs": [],
   "source": [
    "def getstate(primary, g, n_ordered, nodes):\n",
    "    \n",
    "    finalstates = {}\n",
    "    for node in n_ordered:\n",
    "        if node in primary:\n",
    "            finalstates[node] = primary[node]\n",
    "        else:\n",
    "            prenodes = list(g.predecessors(node))\n",
    "            if nodes[node] == 'NAND2':\n",
    "                finalstates[node] = int(not(finalstates[prenodes[0]] & finalstates[prenodes[1]]))\n",
    "            elif nodes[node] == 'AND2':\n",
    "                finalstates[node] = int(finalstates[prenodes[0]] & finalstates[prenodes[1]])\n",
    "            elif nodes[node] == 'NOR2':\n",
    "                finalstates[node] = int(not(finalstates[prenodes[0]] | finalstates[prenodes[1]]))\n",
    "            elif nodes[node] == 'XOR2':\n",
    "                finalstates[node] = int(finalstates[prenodes[0]] ^ finalstates[prenodes[1]])\n",
    "            elif nodes[node] == 'XNOR2':\n",
    "                finalstates[node] = int(not(finalstates[prenodes[0]] ^ finalstates[prenodes[1]]))\n",
    "            elif nodes[node] == 'OR2':\n",
    "                finalstates[node] = int(finalstates[prenodes[0]] | finalstates[prenodes[1]])\n",
    "            elif nodes[node] == 'NOT' or nodes[node] == 'INV':\n",
    "                finalstates[node] = int(not(finalstates[prenodes[0]]))\n",
    "            elif nodes[node] == 'BUF':\n",
    "                finalstates[node] = int(finalstates[prenodes[0]])\n",
    "    return finalstates\n",
    "    \n",
    "    "
   ]
  },
  {
   "cell_type": "markdown",
   "id": "8b3238fa-6679-4230-a8ab-cc43864c0178",
   "metadata": {
    "tags": []
   },
   "source": [
    "In the above function, we have used the topological order of nodes to solve the circuit. The order of steps is as follows:\n",
    "\n",
    "* We iterate over each node starting from the lowest topological level to the highest.\n",
    "\n",
    "* For each node, we evaluate its state by passing the states of its predecessor nodes through the required logic gate and finding the output.\n",
    "\n",
    "* We then update our 'finalstates' dictionary, which stores the current state of all nodes.\n",
    "\n",
    "* By using topological sort, we ensure that all inputs to a logic gate are evaluated before finding its output, so that no problems arise.\n",
    "\n",
    "* After all nodes have been evaluated, we return the final state of the circuit using a dictionary.\n",
    "\n",
    "NOTE: Regarding the states of the input nodes, we have found them separately using another function and passed them here as a parameter. This has been done to avoid taking the additional input file as a parameter for the base netlist reader. The 'nodes' dictionary is also first updated to include these input nodes, only after which it is passed as an argument to this function."
   ]
  },
  {
   "cell_type": "code",
   "execution_count": 4,
   "id": "75002089-fc0a-495f-8bd4-0da937ba51c9",
   "metadata": {},
   "outputs": [],
   "source": [
    "def ordered_solve(netfile, inputfile):\n",
    "    data = netread(netfile)\n",
    "    if (data == -1):\n",
    "        return -1\n",
    "    else:\n",
    "        graph = data[0]\n",
    "        nodes = data[2]\n",
    "        ordered = data[1]\n",
    "\n",
    "    P_inputs = inputfile.readline().strip(\"\\n\").split()\n",
    "    for ip in P_inputs:\n",
    "        nodes[ip] = \"PI\"\n",
    "    inputdict = dict.fromkeys(P_inputs)\n",
    "\n",
    "    \n",
    "    outputs=[]\n",
    "    start = timer()\n",
    "    for line in inputfile:\n",
    "        line = line.split()\n",
    "        for i in range(len(inputdict)):\n",
    "            inputdict[list(inputdict.keys())[i]] = int(line[i])\n",
    "        state = getstate(inputdict, graph, ordered, nodes)\n",
    "        if (state == -1):\n",
    "            return -1\n",
    "        else:\n",
    "            outputs.append(dict(state))\n",
    "    end = timer()      \n",
    "    print(f\"\\n Time taken: {end - start:e} seconds\")        \n",
    "    return outputs"
   ]
  },
  {
   "cell_type": "markdown",
   "id": "16bb1886-34fe-4a99-8bbd-4166931bce5b",
   "metadata": {},
   "source": [
    "This is the 'compiler' function. It calls the base netlist reading function to gather data about the circuit. It also extracts input data by reading the input file and creating an input state dictionary. Finally, all this data is passed to the circuit solver function and the final state of the circuit is stored. __We have also noted the time taken by the circuit solver, using the timer() function__. For each set of inputs, we get a corresponding dictionary of states. These are stored in the 'outputs' list. Finally, we return this list as the output.\n",
    "\n",
    "To view the output, a separate function has been written later on."
   ]
  },
  {
   "cell_type": "markdown",
   "id": "efc0446d-7ce3-49e0-b7ba-c3ca77bb9a93",
   "metadata": {},
   "source": [
    "## Event-driven evaluation"
   ]
  },
  {
   "cell_type": "code",
   "execution_count": 5,
   "id": "b3c32ffa-7794-4f38-a30a-06c23015b8a8",
   "metadata": {},
   "outputs": [],
   "source": [
    "from collections import deque"
   ]
  },
  {
   "cell_type": "markdown",
   "id": "d72c130c-c1f4-4364-8b70-fcee9b16a5df",
   "metadata": {},
   "source": [
    "For the event-driven evaluation, we will require a FIFO data structure (queue). For our case, a list will suffice, however, a better alternative is the __deque__, a double-ended queue that supports adding and removing elements from either end in O(1) time. In a list, removing or adding elements to the left end takes O(n) time, thus a deque is faster in these cases. "
   ]
  },
  {
   "cell_type": "code",
   "execution_count": 6,
   "id": "c772a692-5700-49dd-8408-f286e88ba259",
   "metadata": {},
   "outputs": [],
   "source": [
    "def realtimestate(primary, g, nodes, state):\n",
    "    \n",
    "    q = deque()\n",
    "    \n",
    "    for node in primary:\n",
    "        if primary[node] != state[node]:\n",
    "            q.append(node)\n",
    "    while (q):\n",
    "        change = q.popleft()\n",
    "        if change in primary:\n",
    "            state[change] = primary[change]\n",
    "            for node in list(g.successors(change)):\n",
    "                q.append(node)\n",
    "        else:\n",
    "            temp = state[change]\n",
    "            prenodes = list(g.predecessors(change))\n",
    "            if len(prenodes) == 2:\n",
    "                if state[prenodes[0]] != 'x' and state[prenodes[1]] != 'x':\n",
    "                    if nodes[change] == 'NAND2':\n",
    "                        state[change] = int(not(state[prenodes[0]] & state[prenodes[1]]))\n",
    "                    elif nodes[change] == 'AND2':\n",
    "                        state[change] = int(state[prenodes[0]] & state[prenodes[1]])\n",
    "                    elif nodes[change] == 'NOR2':\n",
    "                        state[change] = int(not(state[prenodes[0]] | state[prenodes[1]]))\n",
    "                    elif nodes[change] == 'XOR2':\n",
    "                        state[change] = int(state[prenodes[0]] ^ state[prenodes[1]])\n",
    "                    elif nodes[change] == 'XNOR2':\n",
    "                        state[change] = int(not(state[prenodes[0]] ^ state[prenodes[1]]))\n",
    "                    elif nodes[change] == 'OR2':\n",
    "                        state[change] = int(state[prenodes[0]] | state[prenodes[1]])        \n",
    "            else:\n",
    "                if state[prenodes[0]] != 'x':\n",
    "                    if nodes[change] == 'NOT' or nodes[change] == 'INV':\n",
    "                        state[change] = int(not(state[prenodes[0]]))\n",
    "                    elif nodes[change] == 'BUF':\n",
    "                        state[change] = int(state[prenodes[0]])\n",
    "            if state[change] != temp:\n",
    "                for node in list(g.successors(change)):\n",
    "                    q.append(node)\n",
    "    \n",
    "    return state"
   ]
  },
  {
   "cell_type": "markdown",
   "id": "2fc46706-7a87-4f77-b73f-00925d60a26f",
   "metadata": {},
   "source": [
    "For the second part of the question, we have implemented an event-driven evaluation of the state of the circuit, directly using a queue to solve the circuit instead of using the topologically sorted list of nodes. Time is saved by only evaluating the parts of the circuit where inputs have been altered. The order of steps is as follows:\n",
    "* Like before, we use the directed acyclic graph to help us find the predecessors/successors of each node as well as tell us about the gates connected to each node.\n",
    "\n",
    "* After creating our queue, we first check the inputs. If any node has been altered, it is added to the queue.\n",
    "\n",
    "* Now, we will start popping items from the queue.\n",
    "\n",
    "* Any node obtained from the queue will either have its value re-evaluated or preset depending on whether it is a primary input or not. The evaluation happens as follows:\n",
    "\n",
    "    * If the value(s) of its predecessor(s) is/are well-defined (i.e not 'x'), then it will be re-evaluated. Else no change.\n",
    "    \n",
    "    * Re-evaluation is done in the same manner as before, by checking the type of logic gate and calculating the output.\n",
    "    \n",
    "    * After re-evaluation, if there is a change in the value of the node, update the state of the circuit and add its successor node(s) to the queue for re-evaluation as well. Otherwise, no change to the queue.\n",
    "    \n",
    "* This process is repeated until the queue is empty, after which we can say that the entire circuit has been evaluated.\n",
    "\n",
    "* Finally, we return the final state of the circuit using a dictionary.\n",
    "\n",
    "NOTE: Primary inputs have been handled in the same way as before. Apart from this, the current state of the circuit is also passed as an input to the function, since now we are only trying to evaluate any changes that have occurred."
   ]
  },
  {
   "cell_type": "code",
   "execution_count": 7,
   "id": "1087bca0-87ef-416d-aa42-5c6aaea4f255",
   "metadata": {},
   "outputs": [],
   "source": [
    "def queue_solver(netfile, inputfile):\n",
    "\n",
    "    data = netread(netfile)\n",
    "    if (data == -1):\n",
    "        return -1\n",
    "    else:\n",
    "        graph = data[0]\n",
    "        nodes = data[2]\n",
    "        ordered = data[1]\n",
    "\n",
    "    P_inputs = inputfile.readline().strip(\"\\n\").split()\n",
    "    for ip in P_inputs:\n",
    "        nodes[ip] = \"PI\"\n",
    "    inputdict = dict.fromkeys(P_inputs)\n",
    "\n",
    "    cur_state = dict.fromkeys(nodes)\n",
    "    for node in cur_state:\n",
    "        cur_state[node] = 'x'\n",
    "    \n",
    "    outputs = []\n",
    "    start = timer()\n",
    "    for line in inputfile:\n",
    "        line = line.split()\n",
    "        for i in range(len(inputdict)):\n",
    "            inputdict[list(inputdict.keys())[i]] = int(line[i])\n",
    "        cur_state = realtimestate(inputdict, graph, nodes, cur_state)\n",
    "        outputs.append(dict(cur_state))\n",
    "        if (cur_state == -1):\n",
    "            return -1\n",
    "    end = timer()      \n",
    "    print(f\"\\n Time taken: {end - start:e} seconds\")\n",
    "        \n",
    "    \n",
    "    return outputs"
   ]
  },
  {
   "cell_type": "markdown",
   "id": "108d3050-0672-4531-a8b7-a0869bfe3ec7",
   "metadata": {},
   "source": [
    "Again, we use a 'compiler' function. As usual, it gathers data about the circuit and its inputs. This data is passed to the circuit solver function and the final state of the circuit is stored. __Once again, we have noted the time taken by the circuit solver, using the timer() function__. The only difference now is that we are passing the stored state of the circuit back into the solver to evaluate for the next set of inputs. This process is repeated for each set of inputs, and all the outputs are stored in a list.\n",
    "\n",
    "To view the output, a separate function has been written later on."
   ]
  },
  {
   "cell_type": "code",
   "execution_count": 8,
   "id": "b01f1e4f-23d2-4c14-acc3-e2800f6cdecf",
   "metadata": {},
   "outputs": [],
   "source": [
    "import csv\n",
    "\n",
    "def display(values):\n",
    "    if values == -1:\n",
    "        print(\"\\nGraph contains a cycle, cannot be evaluated!\")\n",
    "        return -1\n",
    "    else:\n",
    "        with open(\"outputdata.csv\", 'w', newline='') as file:\n",
    "            # Writing net names in alphabetical order\n",
    "            sortednodes = sorted(list(values[0].keys()))\n",
    "            writer = csv.DictWriter(file, fieldnames=sortednodes)\n",
    "            writer.writeheader()\n",
    "            # Printing net names in alphabetical order \n",
    "            print(\"\\n\")\n",
    "            for node in sortednodes:\n",
    "                print(f\" {node} \", end=\"\")\n",
    "            print(\"\\n\")\n",
    "            \n",
    "            # Printing outputs\n",
    "            for state in values:\n",
    "                writer.writerow(state)\n",
    "                for node in sortednodes:\n",
    "                    print(f\" {state[node]:^{len(node)}} \", end=\"\")\n",
    "                print(\"\\n\")\n",
    "            return 0\n",
    "    \n",
    "    "
   ]
  },
  {
   "cell_type": "markdown",
   "id": "991dc328-0545-4294-8746-9b50188ea9e2",
   "metadata": {},
   "source": [
    "A simple function that takes the list of dictionaries as input and prints the states of the circuit for each set of input vectors. The nodes have been sorted in alphabetical order before being displayed.\n",
    "\n",
    "__Apart from this, the complete state table has also been written to a csv file \"outputdata.csv\" to view the outputs in a more readable format.__"
   ]
  },
  {
   "cell_type": "code",
   "execution_count": 9,
   "id": "a38da509-685c-4015-ab6e-be1d7d80d9ef",
   "metadata": {},
   "outputs": [
    {
     "name": "stdout",
     "output_type": "stream",
     "text": [
      "\n",
      " Time taken: 1.857078e-04 seconds\n",
      "\n",
      "\n",
      " N1  N2  N22  N23  N3  N6  N7  n_0  n_1  n_2  n_3 \n",
      "\n",
      " 0   1    1    1   0   0   0    1    1    1    0  \n",
      "\n",
      " 0   0    0    0   1   0   0    1    1    1    1  \n",
      "\n",
      " 1   0    0    0   0   0   0    1    1    1    1  \n",
      "\n",
      " 0   0    0    0   1   1   1    1    0    1    1  \n",
      "\n",
      " 1   1    1    0   1   1   1    0    0    1    1  \n",
      "\n",
      " 1   1    1    1   1   0   0    0    1    1    0  \n",
      "\n",
      " 1   1    1    0   1   1   0    0    0    1    1  \n",
      "\n",
      " 1   1    1    1   0   0   0    1    1    1    0  \n",
      "\n",
      " 0   1    1    1   1   0   1    1    1    0    0  \n",
      "\n",
      " 0   0    0    0   1   1   0    1    0    1    1  \n",
      "\n"
     ]
    }
   ],
   "source": [
    "try:   \n",
    "    net_filename = input(\"Enter name of netlist file in benchmarks: \")\n",
    "    inputs_filename = input(\"Enter name of input file in benchmarks: \")\n",
    "    if (net_filename[-4:] != '.net' or inputs_filename[-7:] != '.inputs'):\n",
    "        raise ValueError\n",
    "    if not (os.path.isfile(f\"benchmarks/{net_filename}\") and os.path.isfile(f\"benchmarks/{inputs_filename}\")):\n",
    "        raise FileNotFoundError\n",
    "except ValueError:\n",
    "    print(\"\\nPlease enter valid filenames!\")\n",
    "except FileNotFoundError:\n",
    "    print('\\nPlease use files present in the benchmarks folder!')\n",
    "else:\n",
    "    with open(f\"benchmarks/{net_filename}\", \"r\") as netfile, open(f\"benchmarks/{inputs_filename}\", \"r\") as inputfile:\n",
    "        display(ordered_solve(netfile, inputfile))\n",
    "        "
   ]
  },
  {
   "cell_type": "code",
   "execution_count": 82,
   "id": "536a010d-d1a4-4352-8647-c0bc89d816f7",
   "metadata": {},
   "outputs": [
    {
     "name": "stdout",
     "output_type": "stream",
     "text": [
      "Enter name of netlist file in benchmarks:  c17.net\n",
      "Enter name of input file in benchmarks:  c17.inputs\n"
     ]
    },
    {
     "name": "stdout",
     "output_type": "stream",
     "text": [
      "\n",
      " Time taken: 1.695440e-04 seconds\n",
      "\n",
      "\n",
      " N1  N2  N22  N23  N3  N6  N7  n_0  n_1  n_2  n_3 \n",
      "\n",
      " 0   1    1    1   0   0   0    1    1    1    0  \n",
      "\n",
      " 0   0    0    0   1   0   0    1    1    1    1  \n",
      "\n",
      " 1   0    0    0   0   0   0    1    1    1    1  \n",
      "\n",
      " 0   0    0    0   1   1   1    1    0    1    1  \n",
      "\n",
      " 1   1    1    0   1   1   1    0    0    1    1  \n",
      "\n",
      " 1   1    1    1   1   0   0    0    1    1    0  \n",
      "\n",
      " 1   1    1    0   1   1   0    0    0    1    1  \n",
      "\n",
      " 1   1    1    1   0   0   0    1    1    1    0  \n",
      "\n",
      " 0   1    1    1   1   0   1    1    1    0    0  \n",
      "\n",
      " 0   0    0    0   1   1   0    1    0    1    1  \n",
      "\n"
     ]
    }
   ],
   "source": [
    "try:   \n",
    "    net_filename = input(\"Enter name of netlist file in benchmarks: \")\n",
    "    inputs_filename = input(\"Enter name of input file in benchmarks: \")\n",
    "    if (net_filename[-4:] != '.net' or inputs_filename[-7:] != '.inputs'):\n",
    "        raise ValueError\n",
    "    if not (os.path.isfile(f\"benchmarks/{net_filename}\") and os.path.isfile(f\"benchmarks/{inputs_filename}\")):\n",
    "        raise FileNotFoundError\n",
    "except ValueError:\n",
    "    print(\"\\nPlease enter valid filenames!\")\n",
    "except FileNotFoundError:\n",
    "    print('\\nPlease use files present in the benchmarks folder!')\n",
    "else:\n",
    "    with open(f\"benchmarks/{net_filename}\", \"r\") as netfile, open(f\"benchmarks/{inputs_filename}\", \"r\") as inputfile:\n",
    "        display(queue_solver(netfile, inputfile))\n",
    "        "
   ]
  },
  {
   "cell_type": "markdown",
   "id": "f3103ee2-bce7-4f5c-b038-f7e3c89f4064",
   "metadata": {},
   "source": [
    "The user is prompted for filename inputs. Validity of filenames are checked by ensuring they end in '.net' and '.inputs'. Then, if the files exist within the 'benchmarks' directory, they are opened and passed on for solving. If any of these conditions aren't passed, then we raise exceptions and exit with an error message."
   ]
  },
  {
   "cell_type": "markdown",
   "id": "9e52a884-f724-46de-afcc-84b4c21b000d",
   "metadata": {},
   "source": [
    "## Time Comparison"
   ]
  },
  {
   "cell_type": "markdown",
   "id": "b536dd32-dcb5-4c53-85d1-af48731dc6a4",
   "metadata": {},
   "source": [
    "On running the two functions on the given datasets, we can make some clear observations:\n",
    "\n",
    "* For smaller netlists, roughly the same time is taken for both the functions, and it is on the order of 0.10-0.20 ms. However the topological sort method is slightly faster.\n",
    "\n",
    "* As the size of the netlists increase, the time difference is more noticeable. The queue solver starts taking almost double (sometimes even more) the amount of time taken by the topological solver. This is because even though the circuit is re-evauluated at each stage in the topological solver, the number of steps always stays the same, and it is equal to the number of nodes in the graph. However, for the queue solver the initial queue itself is very large and this takes up most of the time in the evaluation. \n",
    "\n",
    "* Ultimately, the time taken depends on the size of the graph and the degree of variance of input vectors. If input vectors vary a lot, then the event-driven method offers no advantage, and is in fact slower. Only for very large circuits in which we change only a few outputs at each stage, the queue method will be faster. Otherwise it is better to stick with the topological sort method.\n",
    "\n"
   ]
  }
 ],
 "metadata": {
  "authors": [
   {
    "name": "Aditya Mallick EE21B005"
   }
  ],
  "kernelspec": {
   "display_name": "base",
   "language": "python",
   "name": "python3"
  },
  "language_info": {
   "codemirror_mode": {
    "name": "ipython",
    "version": 3
   },
   "file_extension": ".py",
   "mimetype": "text/x-python",
   "name": "python",
   "nbconvert_exporter": "python",
   "pygments_lexer": "ipython3",
   "version": "3.10.10"
  },
  "widgets": {
   "application/vnd.jupyter.widget-state+json": {
    "state": {},
    "version_major": 2,
    "version_minor": 0
   }
  }
 },
 "nbformat": 4,
 "nbformat_minor": 5
}
