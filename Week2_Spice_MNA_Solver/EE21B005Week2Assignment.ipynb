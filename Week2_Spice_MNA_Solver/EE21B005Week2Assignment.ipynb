{
 "cells": [
  {
   "cell_type": "code",
   "execution_count": 1,
   "metadata": {},
   "outputs": [],
   "source": [
    "# importing required libraries\n",
    "import numpy as np\n",
    "import math\n",
    "import os"
   ]
  },
  {
   "cell_type": "code",
   "execution_count": 209,
   "metadata": {
    "colab": {
     "base_uri": "https://localhost:8080/"
    },
    "id": "RpUWtcXIafNi",
    "outputId": "14808656-014b-48db-9658-6b94df3763f4"
   },
   "outputs": [
    {
     "name": "stdout",
     "output_type": "stream",
     "text": [
      "3628800\n",
      "430 ns ± 5.37 ns per loop (mean ± std. dev. of 7 runs, 1,000,000 loops each)\n"
     ]
    }
   ],
   "source": [
    "# Simple factorial finder using repeated multiplication in for loop\n",
    "def simple_factorial(n):\n",
    "  ans = n\n",
    "  if (n > 0):\n",
    "    for i in range(1,n):\n",
    "      ans *= i\n",
    "    return ans\n",
    "  elif (n == 0):\n",
    "    return 1\n",
    "\n",
    "print(simple_factorial(10))\n",
    "%timeit simple_factorial(10)"
   ]
  },
  {
   "cell_type": "code",
   "execution_count": 210,
   "metadata": {},
   "outputs": [
    {
     "name": "stdout",
     "output_type": "stream",
     "text": [
      "3628800\n",
      "64.5 ns ± 2.24 ns per loop (mean ± std. dev. of 7 runs, 10,000,000 loops each)\n"
     ]
    }
   ],
   "source": [
    "# Factorial using python's inbuilt function\n",
    "print(math.factorial(10))\n",
    "%timeit math.factorial(10)"
   ]
  },
  {
   "cell_type": "code",
   "execution_count": 211,
   "metadata": {
    "id": "kaBE9cBJzjPy"
   },
   "outputs": [
    {
     "name": "stdout",
     "output_type": "stream",
     "text": [
      "3628800\n",
      "878 ns ± 11.3 ns per loop (mean ± std. dev. of 7 runs, 1,000,000 loops each)\n"
     ]
    }
   ],
   "source": [
    "# Recursive implementation of factorial\n",
    "def recursive_factorial(n):\n",
    "  if (n > 1):\n",
    "    return n*recursive_factorial(n - 1)\n",
    "  else:\n",
    "    return 1\n",
    "\n",
    "print(recursive_factorial(10))\n",
    "%timeit recursive_factorial(10)"
   ]
  },
  {
   "cell_type": "markdown",
   "metadata": {},
   "source": [
    "First of all, all these tests were run on the __IITM Jupyter Server__, to ensure that it is a fair comparison.\n",
    "\n",
    "It is clear from the above 3 pieces of code that python's __inbuilt factorial function is much faster__ as compared to the other 2 functions that I have written. __Recursion takes the longest time__ of the 3.\n",
    "\n",
    "It is interesting to observe that the __recursive implementation takes about double the amount of time taken by the iterative implementation__. However, this can be explained by the fact that in the recursive function, at each step the copy of the function with all variables is stored in memory (one step). When the base case is reached, the recursive calls are stopped, and the copies in memory return their values one by one (another step). After all values are returned, the function terminates. Thus the loop only has to iterate through every number once whereas the recursive function has to iterate until it reaches the end and then come back as well.\n",
    "\n",
    "The speed of the inbuilt function comes from the fact that it is written in C. In fact all of the 'math' module functions are written in C. This allows for implementation of time-efficent complex algorithms which are simply called by this function.\n",
    "\n"
   ]
  },
  {
   "cell_type": "code",
   "execution_count": 86,
   "metadata": {},
   "outputs": [],
   "source": [
    "# Random 10x10 matrices for solving\n",
    "a = np.array([[0, 15, 42, 49, 24, 40, 26, 5, 3, 37],\n",
    "     [50, 40, -47, 43, -42, -18, -39, -3, -12, -1],\n",
    "     [12, 18, 33, -45, 31, 48, -18, 8, -7, -38],\n",
    "     [-28, 27, -49, -35, 5, -2, -37, 26, -22, -41],\n",
    "     [23, -16, -1, -4, 33, -3, 37, 23, 30, -20],\n",
    "     [1, 37, -7, 30, 10, 49, 36, 12, 18, -11],\n",
    "     [41, 49, 19, 38, 43, -2, 36, 16, 93, 40],\n",
    "     [44, 38, 37, 18, 11, -6, -18, 22, 8, -17],\n",
    "     [-10, 36, 19, 27, 12, -17, -9, 11, -16, 25],\n",
    "     [2, 19, 23, 27, -12, 21, 10, -13, 9, 42]])\n",
    "b = np.array([-4, 33, 29, -14, -1, 19, 42, 41, -3, 5])"
   ]
  },
  {
   "cell_type": "code",
   "execution_count": 87,
   "metadata": {},
   "outputs": [],
   "source": [
    "def gausselim_partialpivoting(A,B):\n",
    "    n = len(A)\n",
    "    ans = [0 for i in range(n)]\n",
    "    \n",
    "    # iterate through the columns\n",
    "    for counter in range(n - 1):\n",
    "        # partial pivoting -> Swaps rows based on magnitude of leftmost element, helps prevent division by zero\n",
    "        for i in range(counter + 1,n):\n",
    "            if (abs(A[i][counter]) > abs(A[counter][counter])):\n",
    "                B[[counter,i]] = B[[i, counter]] # shorthand notation for swapping numpy rows \n",
    "                A[[counter,i]] = A[[i, counter]]                \n",
    "            \n",
    "        # Forward Elimination -> Converts to an upper triangular matrix       \n",
    "        for i in range(counter + 1,n):\n",
    "            div = A[i][counter]/A[counter][counter]\n",
    "            B[i] -= B[counter]*div\n",
    "            for j in range(counter, n):\n",
    "                A[i][j] -= A[counter][j]*div\n",
    "    \n",
    "    # Back Substitution\n",
    "    for i in range(n - 1,-1,-1):\n",
    "        sum = B[i]\n",
    "        for j in range(n - 1, i - 1, -1):\n",
    "            sum -= A[i][j]*ans[j]\n",
    "        ans[i] = sum/A[i][i]\n",
    "    \n",
    "    return(ans)"
   ]
  },
  {
   "cell_type": "markdown",
   "metadata": {
    "tags": []
   },
   "source": [
    "#### Above is an implementation of gaussian elimination in python with __partial pivoting__. \n",
    "\n",
    "#### Forward Elimination with Partial Pivoting\n",
    "\n",
    "* The first step involves finding the row with the largest element in the leftmost column (called a __pivot__), and swapping it with the topmost row. \n",
    "* Then, we eliminate the first element of the subsequent row by normalising the row above it and subtracting.\n",
    "* Finally, we change our reference frame to the (n - 1) x (n - 1) matrix obtained by hiding the leftmost column and topmost row, and repeat the above steps until we have an upper triangular matrix. Keep in mind that any change made in matrix A will also be reflected in matrix B.\n",
    "\n",
    "* The use of pivots ensures that we always divide by large numbers. This helps reduce errors caused by rounding or division by zero.\n",
    "\n",
    "#### Back Substitution\n",
    "\n",
    "With the upper triangular matrix obtained, we can now sequentially find the values of our unknowns by using the coefficients in A. The method is as follows:\n",
    "\n",
    "* The last row in A will have one coefficent, thus X_n is found by directly dividing corresponding value in B by this coefficient.\n",
    "\n",
    "* The row preceding that will have two coefficients. By substituting X_n from before, we can again solve for X_n-1. Thus we can continue like this, finding each variable one after the other by back substituting the known variables.\n",
    "\n"
   ]
  },
  {
   "cell_type": "code",
   "execution_count": 93,
   "metadata": {},
   "outputs": [
    {
     "name": "stdout",
     "output_type": "stream",
     "text": [
      "X1 = 0.30695015227740746\n",
      "X2 = 0.5753207630766094\n",
      "X3 = 0.22796832847335496\n",
      "X4 = 0.20531742281961884\n",
      "X5 = 0.21414240729551237\n",
      "X6 = -0.1103265696522512\n",
      "X7 = -0.06663127690100427\n",
      "X8 = -1.0830703012912481\n",
      "X9 = 0.2467718794835007\n",
      "X10 = -0.6470588235294118\n",
      "[ 0.30695015  0.57532076  0.22796833  0.20531742  0.21414241 -0.11032657\n",
      " -0.06663128 -1.0830703   0.24677188 -0.64705882]\n",
      "19 µs ± 390 ns per loop (mean ± std. dev. of 7 runs, 100,000 loops each)\n",
      "325 µs ± 9.61 µs per loop (mean ± std. dev. of 7 runs, 1,000 loops each)\n"
     ]
    }
   ],
   "source": [
    "# Displaying the solutions\n",
    "x = np.array([f\"X{i + 1}\" for i in range (len(b))])\n",
    "solution1 = gausselim_partialpivoting(a,b)\n",
    "for i in range(len(solution1)):\n",
    "    print(f\"{x[i]} = {solution1[i]}\")\n",
    "\n",
    "print(np.linalg.solve(a,b))\n",
    "\n",
    "%timeit np.linalg.solve(a,b)\n",
    "%timeit gausselim_paramlist(a,b)"
   ]
  },
  {
   "cell_type": "markdown",
   "metadata": {
    "tags": []
   },
   "source": [
    "As can be seen above, np.linalg.solve is around 15 times faster than my solver for a 10x10 system of linear equations. It must be using a faster algorithm, perhaps LU decomposition."
   ]
  },
  {
   "cell_type": "markdown",
   "metadata": {
    "tags": []
   },
   "source": [
    "## SPICE Netlist Solver\n",
    "\n",
    "Below is an implementation of a circuit solver that first converts a spice netlist into an understandable circuit. Then, using MNA, we solve for our unkown variables and output them."
   ]
  },
  {
   "cell_type": "code",
   "execution_count": 122,
   "metadata": {},
   "outputs": [],
   "source": [
    "def circuit_simulator(file):\n",
    "    txt = file.read().splitlines()\n",
    "    ac_freq = 0\n",
    "    \n",
    "    # checking for ac sources\n",
    "    for line in txt:\n",
    "        if line[:3] == '.ac':\n",
    "            if (line.find('#') != -1):\n",
    "                line = line[:line.find('#')].strip()\n",
    "            ac_freq = float(line.split(\" \")[-1])\n",
    "    \n",
    "    # cleaning data\n",
    "    spice_code = txt[txt.index('.circuit') + 1:txt.index('.end')]\n",
    "    for line in spice_code:\n",
    "        newline = line\n",
    "        if (line.find('#') != -1):\n",
    "            newline = line[:line.find('#')].strip()\n",
    "        spice_code[spice_code.index(line)] = newline.strip().split(\" \")     \n",
    "        \n",
    "    # creating component dictionary\n",
    "    components = {}\n",
    "    for line in spice_code:\n",
    "        if (ac_freq):\n",
    "            if line[0][0] == 'V' or line[0][0] == 'I':\n",
    "                if line[3] != 'ac':\n",
    "                    print(\"Cannot evaluate both DC and AC sources.\")\n",
    "                    return -1\n",
    "                else:\n",
    "                    components[line[0]] = [line[1], line[2], line[4], line[5]]\n",
    "            else:\n",
    "                components[line[0]] = [line[1], line[2], line[-1]]\n",
    "        else:\n",
    "            components[line[0]] = [line[1], line[2], line[-1]]\n",
    "    \n",
    "    # get A,B matrices\n",
    "    matrices = mna_builder(components, ac_freq)\n",
    "    nodes = list(matrices[2].keys())\n",
    "    \n",
    "    # find solution\n",
    "    solution = gausselim_partialpivoting(matrices[0],matrices[1])\n",
    "    \n",
    "    # print output\n",
    "    for i in range(len(solution)):\n",
    "        if (i < len(matrices[2]) - 1):\n",
    "            print(f\"Voltage at node {nodes[i + 1]} = {solution[i]} V\")\n",
    "        else:\n",
    "            print(f\"I{i - len(matrices[2]) + 2} = {solution[i]} A\")\n",
    "    \n",
    "    return 0\n"
   ]
  },
  {
   "cell_type": "markdown",
   "metadata": {
    "tags": []
   },
   "source": [
    "* We have defined a base function which when called prints out the solution matrix. This function takes the file (assumed to be open already) as an input and reads the content. We search the netlist for AC sources, and the '.circuit' and '.end' indicators, all while skipping any comments or junk to ensure that we only get the required data.\n",
    "* The cleaned data is then iterated through to create a dictionary of components. Each component has its name as the key and the nodes it is connected to, numeric value as values. AC sources have additional parameters that are accounted for.\n",
    "* In case __multiple AC frequencies and/or DC + AC sources together are found, the function breaks and returns -1, along with an error message.__\n",
    "* This dictionary serves as the base for our next function, mna_builder. We call mna_builder to retrieve the MNA matrices A and B formed by this circuit, and also the dictionary 'nodes'.\n",
    "* We then use our matrix solver to solve for the solution and iteratively print the value of each unknown. The 'nodes' dictionary helps us determine the name of each node, and the difference between the number of unknowns and number of nodes (excluding 'GND') is the number of auxiliary currents. For a succesful circuit, the function will return 0."
   ]
  },
  {
   "cell_type": "code",
   "execution_count": 130,
   "metadata": {},
   "outputs": [],
   "source": [
    "def mna_builder(components, ac_freq=0):\n",
    "    \n",
    "    # nodes dictionary for using later in filling array\n",
    "    nodes = {}\n",
    "    x = 0\n",
    "    for component in components:\n",
    "        if (components[component][0] not in nodes):\n",
    "            nodes[components[component][0]] = x\n",
    "            x += 1\n",
    "        if (components[component][1] not in nodes):\n",
    "            nodes[components[component][1]] = x\n",
    "            x += 1\n",
    "            \n",
    "    #  initialize A and B matrices in AX = B\n",
    "    nodecount = len(nodes)\n",
    "    A = np.full((nodecount, nodecount), 0, dtype = complex)\n",
    "    B = np.full(nodecount, 0, dtype = complex)\n",
    "        \n",
    "    # Filling up the matrices\n",
    "    for component in components:\n",
    "        if component[0] == 'R':\n",
    "            \n",
    "            val = float(components[component][2])\n",
    "            \n",
    "            # KCL at node 1 and node 2 creates 4 entries for each resistor, two +ve and two -ve\n",
    "            A[nodes[components[component][0]]][nodes[components[component][0]]] += 1/val\n",
    "            A[nodes[components[component][0]]][nodes[components[component][1]]] += -1/val\n",
    "            A[nodes[components[component][1]]][nodes[components[component][0]]] += -1/val\n",
    "            A[nodes[components[component][1]]][nodes[components[component][1]]] += 1/val\n",
    "        \n",
    "        if (ac_freq):\n",
    "            # AC analysis involves complex representation of V, I, L, C\n",
    "            if component[0] == 'V':\n",
    "                \n",
    "                phase = float(components[component][3])\n",
    "                \n",
    "                # V value is taken in rectangular form\n",
    "                val = float(components[component][2])*(math.cos(phase) + 1j*math.sin(phase))\n",
    "                \n",
    "                # Increasing dimensions to account for additional voltage equation\n",
    "                A = np.column_stack((A, np.full(nodecount, 0)))\n",
    "                A = np.row_stack((A, np.full(nodecount + 1, 0)))\n",
    "                B = np.append(B, val)\n",
    "                \n",
    "                # keeping up with the dimension change\n",
    "                nodecount += 1\n",
    "                \n",
    "                # auxiliary current\n",
    "                A[nodes[components[component][0]]][nodecount - 1] += 1\n",
    "                A[nodes[components[component][1]]][nodecount - 1] += -1\n",
    "                \n",
    "                # voltage additional equation\n",
    "                A[nodecount - 1][nodes[components[component][1]]] += -1\n",
    "                A[nodecount - 1][nodes[components[component][0]]] += +1\n",
    "            \n",
    "            elif component[0] == 'L':\n",
    "                \n",
    "                val = float(components[component][2])*1j*ac_freq*2*math.pi\n",
    "                \n",
    "                # Reactance of inductor = j*w*L\n",
    "                A[nodes[components[component][0]]][nodes[components[component][0]]] += 1/val\n",
    "                A[nodes[components[component][0]]][nodes[components[component][1]]] += -1/val\n",
    "                A[nodes[components[component][1]]][nodes[components[component][0]]] += -1/val\n",
    "                A[nodes[components[component][1]]][nodes[components[component][1]]] += 1/val\n",
    "                \n",
    "            elif component[0][0] == 'C':\n",
    "                \n",
    "                val = 1/(float(components[component][2])*1j*ac_freq*2*math.pi)\n",
    "                \n",
    "                # Reactance of capactitor = 1/j*w*C\n",
    "                A[nodes[components[component][0]]][nodes[components[component][0]]] += 1/val\n",
    "                A[nodes[components[component][0]]][nodes[components[component][1]]] += -1/val\n",
    "                A[nodes[components[component][1]]][nodes[components[component][0]]] += -1/val\n",
    "                A[nodes[components[component][1]]][nodes[components[component][1]]] += 1/val\n",
    "\n",
    "            elif component[0] == 'I':\n",
    "                \n",
    "                phase = float(components[component][3])\n",
    "                \n",
    "                # I value is taken in rectangualar form\n",
    "                val = float(components[component][2])*(math.cos(phase) + 1j*math.sin(phase))\n",
    "                \n",
    "                # Current source only needs to be filled in B\n",
    "                B[nodes[components[component][0]]] += val\n",
    "                B[nodes[components[component][1]]] += -val\n",
    "        \n",
    "        else:\n",
    "            # DC current and voltage sources\n",
    "            if component[0] == 'V':\n",
    "                \n",
    "                val = float(components[component][2])\n",
    "                \n",
    "                # Increasing dimensions to account for additional voltage equation\n",
    "                A = np.column_stack((A, np.full(nodecount, 0)))\n",
    "                A = np.row_stack((A, np.full(nodecount + 1, 0)))\n",
    "                B = np.append(B, val)\n",
    "                \n",
    "                # keeping up with the dimension change\n",
    "                nodecount += 1\n",
    "                \n",
    "                # auxiliary current\n",
    "                A[nodes[components[component][0]]][nodecount - 1] += 1\n",
    "                A[nodes[components[component][1]]][nodecount - 1] += -1\n",
    "                \n",
    "                # voltage additional equation\n",
    "                A[nodecount - 1][nodes[components[component][1]]] += -1\n",
    "                A[nodecount - 1][nodes[components[component][0]]] += +1\n",
    "\n",
    "\n",
    "            elif component[0] == 'I':\n",
    "                \n",
    "                val = float(components[component][2])\n",
    "                \n",
    "                # Current source only needs to be filled in B\n",
    "                B[nodes[components[component][0]]] += val\n",
    "                B[nodes[components[component][1]]] += -val\n",
    "    \n",
    "    # Delete GND row and column in A, and element in B\n",
    "    A = np.delete(np.delete(A,0,0),0,1)          \n",
    "    B = np.delete(B,0)\n",
    "    \n",
    "    \n",
    "        \n",
    "    return([A,B,nodes])\n",
    "    "
   ]
  },
  {
   "cell_type": "markdown",
   "metadata": {},
   "source": [
    "As the name suggests, this function creates the MNA matrix for the circuit from the components present in the input. In case AC components are present, an additional optional argument 'ac_freq' has also been passed. This function only solves circuits having a singular frequency, __multiple AC frequencies and/or DC + AC sources together are not supported__.\n",
    "\n",
    "The steps are as follows:\n",
    "\n",
    "* Create a dictionary containing all nodes present in the circuit, including GND by iterating through components and adding all new nodes. Assign the name of the component as key and values are numbers starting from 0, to be used for indexing later.\n",
    "* Initialize A and B matrices having size equal to the number of nodes found, fill them with zeros.\n",
    "* Iterate through each component in the circuit. By analysing KCL at each node, we can fill the matrix. For each component, we know that its value will appear 4 times: twice positive at the nodes on the diagonal and twice negative at the non-diagonal elements (symetrically) whose row and column index are determined by the nodes to which it is connected.\n",
    "* For each voltage source, we must add an extra dimension to the A and B matrices. In A, to account for the new equation corresponding to the source we add a row, and for the new auxiliary current variable passing through it we add a column. In B, we add a new element '0' to match this size change. Without loss of generality we add all these dimensions at the ends of the matrices. The value of the voltage source is filled in B, and we fill '+1's and '-1's in the array A wherever required according to the nodes to which it is connected.\n",
    "* For each current source, we only need to modify the B matrix at the nodes to which it is connected. __We have considered currents entering to be negative and currents leaving to be postive. Thus by netlist convention, the current is positive in the B matrix at the node it enters, and vice versa.__\n",
    "* For AC components and sources, the values have been transformed accordingly and the same procedure for filling the matrix is followed.\n",
    "* After all this is done, we must __remember to delete the row and column in the A matrix corresponding to the GND node, since it should not appear in the final MNA matrix. We included it just to make our code simpler (by not having to check for it whenever we fill the matrix). Similarly delete the corresponding element in the B matrix. By our convention, this has been taken as the first column, row and element.__\n",
    "\n",
    "We return the values of A and B, (and also the dictionary nodes, which we will use to print output and determine the number of auxiliary currents)."
   ]
  },
  {
   "cell_type": "code",
   "execution_count": 131,
   "metadata": {},
   "outputs": [
    {
     "name": "stdin",
     "output_type": "stream",
     "text": [
      "Enter name of file present in spice_netlists:  ckt4.netlist\n"
     ]
    },
    {
     "name": "stdout",
     "output_type": "stream",
     "text": [
      "Voltage at node 1 = (-10-0j) V\n",
      "Voltage at node 2 = (-5.555555555555556+0j) V\n",
      "Voltage at node 3 = (-3.7037037037037037+0j) V\n",
      "I1 = (-2.2222222222222214-0j) A\n"
     ]
    }
   ],
   "source": [
    "try:\n",
    "    filename = input(\"Enter name of file present in spice_netlists: \")\n",
    "    if (filename[-8:] != '.netlist'):\n",
    "        raise ValueError\n",
    "    if not os.path.isfile(f\"spice_netlists/{filename}\"):\n",
    "        raise FileNotFoundError\n",
    "except ValueError:\n",
    "    print(\"Not a valid filename, try again.\")\n",
    "except FileNotFoundError:\n",
    "    print('The netlist file you gave is not present in spice_netlists.')\n",
    "else:\n",
    "    with open(f\"spice_netlists/{filename}\", \"r\") as f:\n",
    "        circuit_simulator(f)"
   ]
  },
  {
   "cell_type": "markdown",
   "metadata": {},
   "source": [
    "Finally, the user is prompted for a filename input. First we check for validity of filename by ensuring it ends in '.netlist'. Then, if the file exists within the 'spice_netlists' directory, it is opened and passed onto our circuit solver. If either of these conditions aren't passed, then we raise exceptions and exit with an error message."
   ]
  }
 ],
 "metadata": {
  "authors": [
   {
    "name": "Aditya Mallick EE21B005"
   }
  ],
  "colab": {
   "provenance": []
  },
  "kernelspec": {
   "display_name": "Python 3 (ipykernel)",
   "language": "python",
   "name": "python3"
  },
  "language_info": {
   "codemirror_mode": {
    "name": "ipython",
    "version": 3
   },
   "file_extension": ".py",
   "mimetype": "text/x-python",
   "name": "python",
   "nbconvert_exporter": "python",
   "pygments_lexer": "ipython3",
   "version": "3.9.2"
  },
  "title": "EE2703 - Week 2",
  "widgets": {
   "application/vnd.jupyter.widget-state+json": {
    "state": {},
    "version_major": 2,
    "version_minor": 0
   }
  }
 },
 "nbformat": 4,
 "nbformat_minor": 4
}
